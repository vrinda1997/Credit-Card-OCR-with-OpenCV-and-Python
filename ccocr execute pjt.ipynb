{
 "cells": [
  {
   "cell_type": "code",
   "execution_count": 1,
   "id": "2a2bc868",
   "metadata": {},
   "outputs": [],
   "source": [
    "# import the necessary packages\n",
    "from imutils import contours\n",
    "import numpy as np\n",
    "import argparse\n",
    "import imutils\n",
    "import cv2"
   ]
  },
  {
   "cell_type": "code",
   "execution_count": 2,
   "id": "489bd306",
   "metadata": {},
   "outputs": [
    {
     "name": "stderr",
     "output_type": "stream",
     "text": [
      "usage: ipykernel_launcher.py [-h] -i IMAGE -r REFERENCE\n",
      "ipykernel_launcher.py: error: the following arguments are required: -i/--image, -r/--reference\n"
     ]
    },
    {
     "ename": "SystemExit",
     "evalue": "2",
     "output_type": "error",
     "traceback": [
      "An exception has occurred, use %tb to see the full traceback.\n",
      "\u001b[1;31mSystemExit\u001b[0m\u001b[1;31m:\u001b[0m 2\n"
     ]
    },
    {
     "name": "stderr",
     "output_type": "stream",
     "text": [
      "C:\\Users\\HM358WJ\\Anaconda3\\lib\\site-packages\\IPython\\core\\interactiveshell.py:3445: UserWarning: To exit: use 'exit', 'quit', or Ctrl-D.\n",
      "  warn(\"To exit: use 'exit', 'quit', or Ctrl-D.\", stacklevel=1)\n"
     ]
    }
   ],
   "source": [
    "# construct the argument parser and parse the arguments\n",
    "ap = argparse.ArgumentParser()\n",
    "ap.add_argument(\"-i\", \"--image\", required=True,\n",
    "\thelp=\"path to input image\")\n",
    "ap.add_argument(\"-r\", \"--reference\", required=True,\n",
    "\thelp=\"path to reference OCR-A image\")\n",
    "args = vars(ap.parse_args())"
   ]
  },
  {
   "cell_type": "code",
   "execution_count": 3,
   "id": "0a27accb",
   "metadata": {},
   "outputs": [
    {
     "name": "stderr",
     "output_type": "stream",
     "text": [
      "usage: ipykernel_launcher.py [-h] -i IMAGE -r REFERENCE\n",
      "ipykernel_launcher.py: error: the following arguments are required: -i/--image, -r/--reference\n"
     ]
    },
    {
     "ename": "SystemExit",
     "evalue": "2",
     "output_type": "error",
     "traceback": [
      "An exception has occurred, use %tb to see the full traceback.\n",
      "\u001b[1;31mSystemExit\u001b[0m\u001b[1;31m:\u001b[0m 2\n"
     ]
    }
   ],
   "source": [
    "# construct the argument parser and parse the arguments\n",
    "ap = argparse.ArgumentParser()\n",
    "ap.add_argument(\"-i\", \"--image\", required=True, help=\"path to input image\")\n",
    "ap.add_argument(\"-r\", \"--reference\", required=True, help=\"path to reference OCR-A image\")\n",
    "args = vars(ap.parse_args())"
   ]
  },
  {
   "cell_type": "code",
   "execution_count": 4,
   "id": "9db3146e",
   "metadata": {},
   "outputs": [
    {
     "name": "stderr",
     "output_type": "stream",
     "text": [
      "usage: ipykernel_launcher.py [-h] -i IMAGE -r REFERENCE\n",
      "ipykernel_launcher.py: error: the following arguments are required: -i/--image, -r/--reference\n"
     ]
    },
    {
     "ename": "SystemExit",
     "evalue": "2",
     "output_type": "error",
     "traceback": [
      "An exception has occurred, use %tb to see the full traceback.\n",
      "\u001b[1;31mSystemExit\u001b[0m\u001b[1;31m:\u001b[0m 2\n"
     ]
    }
   ],
   "source": [
    "# construct the argument parser and parse the arguments\n",
    "ap = argparse.ArgumentParser()\n",
    "ap.add_argument(\"-i\", \"--image\", required=True)\n",
    "ap.add_argument(\"-r\", \"--reference\", required=True)\n",
    "args = vars(ap.parse_args())"
   ]
  },
  {
   "cell_type": "code",
   "execution_count": 5,
   "id": "fd78c58f",
   "metadata": {},
   "outputs": [
    {
     "name": "stderr",
     "output_type": "stream",
     "text": [
      "usage: ipykernel_launcher.py [-h] [-i IMAGE] [-r REFERENCE]\n",
      "ipykernel_launcher.py: error: unrecognized arguments: -f C:\\Users\\HM358WJ\\AppData\\Roaming\\jupyter\\runtime\\kernel-e2ba93b6-8c3c-4fb1-9190-affabb49c354.json\n"
     ]
    },
    {
     "ename": "SystemExit",
     "evalue": "2",
     "output_type": "error",
     "traceback": [
      "An exception has occurred, use %tb to see the full traceback.\n",
      "\u001b[1;31mSystemExit\u001b[0m\u001b[1;31m:\u001b[0m 2\n"
     ]
    }
   ],
   "source": [
    "# construct the argument parser and parse the arguments\n",
    "ap = argparse.ArgumentParser()\n",
    "ap.add_argument(\"-i\", \"--image\", help=\"path to input image\")\n",
    "ap.add_argument(\"-r\", \"--reference\",  help=\"path to reference OCR-A image\")\n",
    "args = vars(ap.parse_args())"
   ]
  },
  {
   "cell_type": "code",
   "execution_count": 6,
   "id": "8b7727f7",
   "metadata": {},
   "outputs": [
    {
     "name": "stderr",
     "output_type": "stream",
     "text": [
      "usage: ipykernel_launcher.py [-h]\n",
      "ipykernel_launcher.py: error: unrecognized arguments: -f C:\\Users\\HM358WJ\\AppData\\Roaming\\jupyter\\runtime\\kernel-e2ba93b6-8c3c-4fb1-9190-affabb49c354.json\n"
     ]
    },
    {
     "ename": "SystemExit",
     "evalue": "2",
     "output_type": "error",
     "traceback": [
      "An exception has occurred, use %tb to see the full traceback.\n",
      "\u001b[1;31mSystemExit\u001b[0m\u001b[1;31m:\u001b[0m 2\n"
     ]
    }
   ],
   "source": [
    "# construct the argument parser and parse the arguments\n",
    "ap = argparse.ArgumentParser()\n",
    "args = vars(ap.parse_args())"
   ]
  },
  {
   "cell_type": "code",
   "execution_count": 7,
   "id": "45bc91dd",
   "metadata": {},
   "outputs": [
    {
     "name": "stderr",
     "output_type": "stream",
     "text": [
      "usage: ipykernel_launcher.py [-h]\n",
      "ipykernel_launcher.py: error: unrecognized arguments: -f C:\\Users\\HM358WJ\\AppData\\Roaming\\jupyter\\runtime\\kernel-e2ba93b6-8c3c-4fb1-9190-affabb49c354.json\n"
     ]
    },
    {
     "ename": "SystemExit",
     "evalue": "2",
     "output_type": "error",
     "traceback": [
      "An exception has occurred, use %tb to see the full traceback.\n",
      "\u001b[1;31mSystemExit\u001b[0m\u001b[1;31m:\u001b[0m 2\n"
     ]
    }
   ],
   "source": [
    "# construct the argument parser and parse the arguments\n",
    "\n",
    "args = vars(ap.parse_args())"
   ]
  },
  {
   "cell_type": "code",
   "execution_count": 8,
   "id": "e6d5cb79",
   "metadata": {},
   "outputs": [
    {
     "ename": "NameError",
     "evalue": "name 'argv' is not defined",
     "output_type": "error",
     "traceback": [
      "\u001b[1;31m---------------------------------------------------------------------------\u001b[0m",
      "\u001b[1;31mNameError\u001b[0m                                 Traceback (most recent call last)",
      "\u001b[1;32m<ipython-input-8-691d8869a50d>\u001b[0m in \u001b[0;36m<module>\u001b[1;34m\u001b[0m\n\u001b[1;32m----> 1\u001b[1;33m \u001b[0margs\u001b[0m \u001b[1;33m=\u001b[0m \u001b[0map\u001b[0m\u001b[1;33m.\u001b[0m\u001b[0mparse_args\u001b[0m\u001b[1;33m(\u001b[0m\u001b[0margv\u001b[0m\u001b[1;33m[\u001b[0m\u001b[1;36m1\u001b[0m\u001b[1;33m:\u001b[0m\u001b[1;33m]\u001b[0m\u001b[1;33m)\u001b[0m\u001b[1;33m\u001b[0m\u001b[1;33m\u001b[0m\u001b[0m\n\u001b[0m",
      "\u001b[1;31mNameError\u001b[0m: name 'argv' is not defined"
     ]
    }
   ],
   "source": [
    "args = ap.parse_args(argv[1:])"
   ]
  },
  {
   "cell_type": "code",
   "execution_count": 9,
   "id": "08827580",
   "metadata": {},
   "outputs": [
    {
     "ename": "NameError",
     "evalue": "name 'args' is not defined",
     "output_type": "error",
     "traceback": [
      "\u001b[1;31m---------------------------------------------------------------------------\u001b[0m",
      "\u001b[1;31mNameError\u001b[0m                                 Traceback (most recent call last)",
      "\u001b[1;32m<ipython-input-9-d427f01f3554>\u001b[0m in \u001b[0;36m<module>\u001b[1;34m\u001b[0m\n\u001b[1;32m----> 1\u001b[1;33m \u001b[0margs\u001b[0m \u001b[1;33m=\u001b[0m \u001b[0map\u001b[0m\u001b[1;33m.\u001b[0m\u001b[0mparse_args\u001b[0m\u001b[1;33m(\u001b[0m\u001b[0margs\u001b[0m\u001b[1;33m[\u001b[0m\u001b[1;36m1\u001b[0m\u001b[1;33m:\u001b[0m\u001b[1;33m]\u001b[0m\u001b[1;33m)\u001b[0m\u001b[1;33m\u001b[0m\u001b[1;33m\u001b[0m\u001b[0m\n\u001b[0m",
      "\u001b[1;31mNameError\u001b[0m: name 'args' is not defined"
     ]
    }
   ],
   "source": [
    "args = ap.parse_args(args[1:])"
   ]
  },
  {
   "cell_type": "code",
   "execution_count": 10,
   "id": "4964b342",
   "metadata": {},
   "outputs": [
    {
     "name": "stderr",
     "output_type": "stream",
     "text": [
      "usage: ipykernel_launcher.py [-h] -i IMAGE -r REFERENCE\n",
      "ipykernel_launcher.py: error: the following arguments are required: -i/--image, -r/--reference\n"
     ]
    },
    {
     "ename": "SystemExit",
     "evalue": "2",
     "output_type": "error",
     "traceback": [
      "An exception has occurred, use %tb to see the full traceback.\n",
      "\u001b[1;31mSystemExit\u001b[0m\u001b[1;31m:\u001b[0m 2\n"
     ]
    }
   ],
   "source": [
    "# construct the argument parser and parse the arguments\n",
    "ap = argparse.ArgumentParser()\n",
    "ap.add_argument(\"-i\", \"--image\", required=True,\n",
    "\thelp=\"path to input image\")\n",
    "ap.add_argument(\"-r\", \"--reference\", required=True,\n",
    "\thelp=\"path to reference OCR-A image\")\n",
    "\n",
    "args, unknown =ap.parse_known_args()"
   ]
  },
  {
   "cell_type": "code",
   "execution_count": 11,
   "id": "5a019bf0",
   "metadata": {},
   "outputs": [
    {
     "ename": "SyntaxError",
     "evalue": "invalid syntax (<ipython-input-11-bf46b695f38e>, line 1)",
     "output_type": "error",
     "traceback": [
      "\u001b[1;36m  File \u001b[1;32m\"<ipython-input-11-bf46b695f38e>\"\u001b[1;36m, line \u001b[1;32m1\u001b[0m\n\u001b[1;33m    pip install --ignore-installed --upgrade jupyter\u001b[0m\n\u001b[1;37m        ^\u001b[0m\n\u001b[1;31mSyntaxError\u001b[0m\u001b[1;31m:\u001b[0m invalid syntax\n"
     ]
    }
   ],
   "source": [
    "pip install --ignore-installed --upgrade jupyter\n",
    "\n",
    "pip install ipykernel\n",
    "python -m ipykernel install\n",
    "\n",
    "conda install notebook ipykernel\n",
    "ipython kernelspec install-self"
   ]
  },
  {
   "cell_type": "code",
   "execution_count": 12,
   "id": "beb142d6",
   "metadata": {},
   "outputs": [
    {
     "name": "stdout",
     "output_type": "stream",
     "text": [
      "Collecting easydict\n",
      "  Downloading easydict-1.9.tar.gz (6.4 kB)\n",
      "Building wheels for collected packages: easydict\n",
      "  Building wheel for easydict (setup.py): started\n",
      "  Building wheel for easydict (setup.py): finished with status 'done'\n",
      "  Created wheel for easydict: filename=easydict-1.9-py3-none-any.whl size=6350 sha256=14b26da497e44c88702920999f92f624baf10c7e276dec3ec24891339bbcc737\n",
      "  Stored in directory: c:\\users\\hm358wj\\appdata\\local\\pip\\cache\\wheels\\d3\\e0\\e9\\305e348717e399665119bd012510d51ff4f22d709ff60c3096\n",
      "Successfully built easydict\n",
      "Installing collected packages: easydict\n",
      "Successfully installed easydict-1.9\n",
      "Note: you may need to restart the kernel to use updated packages.\n"
     ]
    }
   ],
   "source": [
    "pip install easydict\n"
   ]
  },
  {
   "cell_type": "code",
   "execution_count": 13,
   "id": "7c88a737",
   "metadata": {},
   "outputs": [],
   "source": [
    "import easydict\n",
    "args = easydict.EasyDict({\n",
    "        \"i\": \"C:\\VRK FOLDER\\Vrindas Folder\\CREDIT CARD OC PJT\\Credit Card Image.PNG\",\n",
    "        \"r\": \"C:\\VRK FOLDER\\Vrindas Folder\\CREDIT CARD OC PJT\\Reference.PNG\"\n",
    "})"
   ]
  },
  {
   "cell_type": "code",
   "execution_count": 14,
   "id": "5d6187da",
   "metadata": {},
   "outputs": [],
   "source": [
    "# define a dictionary that maps the first digit of a credit card\n",
    "# number to the credit card type\n",
    "FIRST_NUMBER = {\n",
    "\t\"3\": \"American Express\",\n",
    "\t\"4\": \"Visa\",\n",
    "\t\"5\": \"MasterCard\",\n",
    "\t\"6\": \"Discover Card\"\n",
    "}"
   ]
  },
  {
   "cell_type": "code",
   "execution_count": 15,
   "id": "093ecc5c",
   "metadata": {},
   "outputs": [
    {
     "ename": "KeyError",
     "evalue": "'reference'",
     "output_type": "error",
     "traceback": [
      "\u001b[1;31m---------------------------------------------------------------------------\u001b[0m",
      "\u001b[1;31mKeyError\u001b[0m                                  Traceback (most recent call last)",
      "\u001b[1;32m<ipython-input-15-be1a90297fab>\u001b[0m in \u001b[0;36m<module>\u001b[1;34m\u001b[0m\n\u001b[0;32m      3\u001b[0m \u001b[1;31m# *black* background\u001b[0m\u001b[1;33m\u001b[0m\u001b[1;33m\u001b[0m\u001b[1;33m\u001b[0m\u001b[0m\n\u001b[0;32m      4\u001b[0m \u001b[1;31m# and invert it, such that the digits appear as *white* on a *black*\u001b[0m\u001b[1;33m\u001b[0m\u001b[1;33m\u001b[0m\u001b[1;33m\u001b[0m\u001b[0m\n\u001b[1;32m----> 5\u001b[1;33m \u001b[0mref\u001b[0m \u001b[1;33m=\u001b[0m \u001b[0mcv2\u001b[0m\u001b[1;33m.\u001b[0m\u001b[0mimread\u001b[0m\u001b[1;33m(\u001b[0m\u001b[0margs\u001b[0m\u001b[1;33m[\u001b[0m\u001b[1;34m\"reference\"\u001b[0m\u001b[1;33m]\u001b[0m\u001b[1;33m)\u001b[0m\u001b[1;33m\u001b[0m\u001b[1;33m\u001b[0m\u001b[0m\n\u001b[0m\u001b[0;32m      6\u001b[0m \u001b[0mref\u001b[0m \u001b[1;33m=\u001b[0m \u001b[0mcv2\u001b[0m\u001b[1;33m.\u001b[0m\u001b[0mcvtColor\u001b[0m\u001b[1;33m(\u001b[0m\u001b[0mref\u001b[0m\u001b[1;33m,\u001b[0m \u001b[0mcv2\u001b[0m\u001b[1;33m.\u001b[0m\u001b[0mCOLOR_BGR2GRAY\u001b[0m\u001b[1;33m)\u001b[0m\u001b[1;33m\u001b[0m\u001b[1;33m\u001b[0m\u001b[0m\n\u001b[0;32m      7\u001b[0m \u001b[0mref\u001b[0m \u001b[1;33m=\u001b[0m \u001b[0mcv2\u001b[0m\u001b[1;33m.\u001b[0m\u001b[0mthreshold\u001b[0m\u001b[1;33m(\u001b[0m\u001b[0mref\u001b[0m\u001b[1;33m,\u001b[0m \u001b[1;36m10\u001b[0m\u001b[1;33m,\u001b[0m \u001b[1;36m255\u001b[0m\u001b[1;33m,\u001b[0m \u001b[0mcv2\u001b[0m\u001b[1;33m.\u001b[0m\u001b[0mTHRESH_BINARY_INV\u001b[0m\u001b[1;33m)\u001b[0m\u001b[1;33m[\u001b[0m\u001b[1;36m1\u001b[0m\u001b[1;33m]\u001b[0m\u001b[1;33m\u001b[0m\u001b[1;33m\u001b[0m\u001b[0m\n",
      "\u001b[1;31mKeyError\u001b[0m: 'reference'"
     ]
    }
   ],
   "source": [
    "# load the reference OCR-A image from disk, convert it to grayscale,\n",
    "# and threshold it, such that the digits appear as *white* on a\n",
    "# *black* background\n",
    "# and invert it, such that the digits appear as *white* on a *black*\n",
    "ref = cv2.imread(args[\"reference\"])\n",
    "ref = cv2.cvtColor(ref, cv2.COLOR_BGR2GRAY)\n",
    "ref = cv2.threshold(ref, 10, 255, cv2.THRESH_BINARY_INV)[1]"
   ]
  },
  {
   "cell_type": "code",
   "execution_count": 16,
   "id": "d6752c3b",
   "metadata": {},
   "outputs": [],
   "source": [
    "# load the reference OCR-A image from disk, convert it to grayscale,\n",
    "# and threshold it, such that the digits appear as *white* on a\n",
    "# *black* background\n",
    "# and invert it, such that the digits appear as *white* on a *black*\n",
    "ref = cv2.imread(args[\"reference\"])\n",
    "ref = cv2.cvtColor(ref, cv2.COLOR_BGR2GRAY)\n",
    "ref = cv2.threshold(ref, 10, 255, cv2.THRESH_BINARY_INV)[1]"
   ]
  },
  {
   "cell_type": "code",
   "execution_count": 17,
   "id": "f7b602a8",
   "metadata": {},
   "outputs": [],
   "source": [
    "# find contours in the OCR-A image (i.e,. the outlines of the digits)\n",
    "# sort them from left to right, and initialize a dictionary to map\n",
    "# digit name to the ROI\n",
    "refCnts = cv2.findContours(ref.copy(), cv2.RETR_EXTERNAL,\n",
    "\tcv2.CHAIN_APPROX_SIMPLE)\n",
    "refCnts = imutils.grab_contours(refCnts)\n",
    "refCnts = contours.sort_contours(refCnts, method=\"left-to-right\")[0]\n",
    "digits = {}"
   ]
  },
  {
   "cell_type": "code",
   "execution_count": 18,
   "id": "e15521ee",
   "metadata": {},
   "outputs": [],
   "source": [
    "# loop over the OCR-A reference contours\n",
    "for (i, c) in enumerate(refCnts):\n",
    "\t# compute the bounding box for the digit, extract it, and resize\n",
    "\t# it to a fixed size\n",
    "\t(x, y, w, h) = cv2.boundingRect(c)\n",
    "\troi = ref[y:y + h, x:x + w]\n",
    "\troi = cv2.resize(roi, (57, 88))\n",
    "\t# update the digits dictionary, mapping the digit name to the ROI\n",
    "\tdigits[i] = roi"
   ]
  },
  {
   "cell_type": "code",
   "execution_count": 19,
   "id": "cac77383",
   "metadata": {},
   "outputs": [],
   "source": [
    "# initialize a rectangular (wider than it is tall) and square\n",
    "# structuring kernel\n",
    "rectKernel = cv2.getStructuringElement(cv2.MORPH_RECT, (9, 3))\n",
    "sqKernel = cv2.getStructuringElement(cv2.MORPH_RECT, (5, 5))"
   ]
  },
  {
   "cell_type": "code",
   "execution_count": 20,
   "id": "15b63b28",
   "metadata": {},
   "outputs": [
    {
     "ename": "KeyError",
     "evalue": "'image'",
     "output_type": "error",
     "traceback": [
      "\u001b[1;31m---------------------------------------------------------------------------\u001b[0m",
      "\u001b[1;31mKeyError\u001b[0m                                  Traceback (most recent call last)",
      "\u001b[1;32m<ipython-input-20-25c69d99cefc>\u001b[0m in \u001b[0;36m<module>\u001b[1;34m\u001b[0m\n\u001b[0;32m      1\u001b[0m \u001b[1;31m# load the input image, resize it, and convert it to grayscale\u001b[0m\u001b[1;33m\u001b[0m\u001b[1;33m\u001b[0m\u001b[1;33m\u001b[0m\u001b[0m\n\u001b[1;32m----> 2\u001b[1;33m \u001b[0mimage\u001b[0m \u001b[1;33m=\u001b[0m \u001b[0mcv2\u001b[0m\u001b[1;33m.\u001b[0m\u001b[0mimread\u001b[0m\u001b[1;33m(\u001b[0m\u001b[0margs\u001b[0m\u001b[1;33m[\u001b[0m\u001b[1;34m\"image\"\u001b[0m\u001b[1;33m]\u001b[0m\u001b[1;33m)\u001b[0m\u001b[1;33m\u001b[0m\u001b[1;33m\u001b[0m\u001b[0m\n\u001b[0m\u001b[0;32m      3\u001b[0m \u001b[0mimage\u001b[0m \u001b[1;33m=\u001b[0m \u001b[0mimutils\u001b[0m\u001b[1;33m.\u001b[0m\u001b[0mresize\u001b[0m\u001b[1;33m(\u001b[0m\u001b[0mimage\u001b[0m\u001b[1;33m,\u001b[0m \u001b[0mwidth\u001b[0m\u001b[1;33m=\u001b[0m\u001b[1;36m300\u001b[0m\u001b[1;33m)\u001b[0m\u001b[1;33m\u001b[0m\u001b[1;33m\u001b[0m\u001b[0m\n\u001b[0;32m      4\u001b[0m \u001b[0mgray\u001b[0m \u001b[1;33m=\u001b[0m \u001b[0mcv2\u001b[0m\u001b[1;33m.\u001b[0m\u001b[0mcvtColor\u001b[0m\u001b[1;33m(\u001b[0m\u001b[0mimage\u001b[0m\u001b[1;33m,\u001b[0m \u001b[0mcv2\u001b[0m\u001b[1;33m.\u001b[0m\u001b[0mCOLOR_BGR2GRAY\u001b[0m\u001b[1;33m)\u001b[0m\u001b[1;33m\u001b[0m\u001b[1;33m\u001b[0m\u001b[0m\n",
      "\u001b[1;31mKeyError\u001b[0m: 'image'"
     ]
    }
   ],
   "source": [
    "# load the input image, resize it, and convert it to grayscale\n",
    "image = cv2.imread(args[\"image\"])\n",
    "image = imutils.resize(image, width=300)\n",
    "gray = cv2.cvtColor(image, cv2.COLOR_BGR2GRAY)"
   ]
  },
  {
   "cell_type": "code",
   "execution_count": 21,
   "id": "c935af91",
   "metadata": {},
   "outputs": [],
   "source": [
    "# load the input image, resize it, and convert it to grayscale\n",
    "image = cv2.imread(args[\"i\"])\n",
    "image = imutils.resize(image, width=300)\n",
    "gray = cv2.cvtColor(image, cv2.COLOR_BGR2GRAY)"
   ]
  },
  {
   "cell_type": "code",
   "execution_count": 22,
   "id": "efe481d0",
   "metadata": {},
   "outputs": [],
   "source": [
    "# apply a tophat (whitehat) morphological operator to find light\n",
    "# regions against a dark background (i.e., the credit card numbers)\n",
    "tophat = cv2.morphologyEx(gray, cv2.MORPH_TOPHAT, rectKernel)"
   ]
  },
  {
   "cell_type": "code",
   "execution_count": 23,
   "id": "f50164d7",
   "metadata": {},
   "outputs": [],
   "source": [
    "# compute the Scharr gradient of the tophat image, then scale\n",
    "# the rest back into the range [0, 255]\n",
    "gradX = cv2.Sobel(tophat, ddepth=cv2.CV_32F, dx=1, dy=0,\n",
    "\tksize=-1)\n",
    "gradX = np.absolute(gradX)\n",
    "(minVal, maxVal) = (np.min(gradX), np.max(gradX))\n",
    "gradX = (255 * ((gradX - minVal) / (maxVal - minVal)))\n",
    "gradX = gradX.astype(\"uint8\")"
   ]
  },
  {
   "cell_type": "code",
   "execution_count": 24,
   "id": "8e48a2e0",
   "metadata": {},
   "outputs": [],
   "source": [
    "# apply a closing operation using the rectangular kernel to help\n",
    "# cloes gaps in between credit card number digits, then apply\n",
    "# Otsu's thresholding method to binarize the image\n",
    "gradX = cv2.morphologyEx(gradX, cv2.MORPH_CLOSE, rectKernel)\n",
    "thresh = cv2.threshold(gradX, 0, 255,\n",
    "\tcv2.THRESH_BINARY | cv2.THRESH_OTSU)[1]\n",
    "# apply a second closing operation to the binary image, again\n",
    "# to help close gaps between credit card number regions\n",
    "thresh = cv2.morphologyEx(thresh, cv2.MORPH_CLOSE, sqKernel)"
   ]
  },
  {
   "cell_type": "code",
   "execution_count": 25,
   "id": "8b4f24aa",
   "metadata": {},
   "outputs": [],
   "source": [
    "# find contours in the thresholded image, then initialize the\n",
    "# list of digit locations\n",
    "cnts = cv2.findContours(thresh.copy(), cv2.RETR_EXTERNAL,\n",
    "\tcv2.CHAIN_APPROX_SIMPLE)\n",
    "cnts = imutils.grab_contours(cnts)\n",
    "locs = []"
   ]
  },
  {
   "cell_type": "code",
   "execution_count": 26,
   "id": "682328f3",
   "metadata": {},
   "outputs": [],
   "source": [
    "# loop over the contours\n",
    "for (i, c) in enumerate(cnts):\n",
    "\t# compute the bounding box of the contour, then use the\n",
    "\t# bounding box coordinates to derive the aspect ratio\n",
    "\t(x, y, w, h) = cv2.boundingRect(c)\n",
    "\tar = w / float(h)\n",
    "\t# since credit cards used a fixed size fonts with 4 groups\n",
    "\t# of 4 digits, we can prune potential contours based on the\n",
    "\t# aspect ratio\n",
    "\tif ar > 2.5 and ar < 4.0:\n",
    "\t\t# contours can further be pruned on minimum/maximum width\n",
    "\t\t# and height\n",
    "\t\tif (w > 40 and w < 55) and (h > 10 and h < 20):\n",
    "\t\t\t# append the bounding box region of the digits group\n",
    "\t\t\t# to our locations list\n",
    "\t\t\tlocs.append((x, y, w, h))"
   ]
  },
  {
   "cell_type": "code",
   "execution_count": 27,
   "id": "1598803b",
   "metadata": {},
   "outputs": [],
   "source": [
    "# sort the digit locations from left-to-right, then initialize the\n",
    "# list of classified digits\n",
    "locs = sorted(locs, key=lambda x:x[0])\n",
    "output = []"
   ]
  },
  {
   "cell_type": "code",
   "execution_count": 28,
   "id": "f9e28276",
   "metadata": {},
   "outputs": [],
   "source": [
    "# loop over the 4 groupings of 4 digits\n",
    "for (i, (gX, gY, gW, gH)) in enumerate(locs):\n",
    "\t# initialize the list of group digits\n",
    "\tgroupOutput = []\n",
    "\t# extract the group ROI of 4 digits from the grayscale image,\n",
    "\t# then apply thresholding to segment the digits from the\n",
    "\t# background of the credit card\n",
    "\tgroup = gray[gY - 5:gY + gH + 5, gX - 5:gX + gW + 5]\n",
    "\tgroup = cv2.threshold(group, 0, 255,\n",
    "\t\tcv2.THRESH_BINARY | cv2.THRESH_OTSU)[1]\n",
    "\t# detect the contours of each individual digit in the group,\n",
    "\t# then sort the digit contours from left to right\n",
    "\tdigitCnts = cv2.findContours(group.copy(), cv2.RETR_EXTERNAL,\n",
    "\t\tcv2.CHAIN_APPROX_SIMPLE)\n",
    "\tdigitCnts = imutils.grab_contours(digitCnts)\n",
    "\tdigitCnts = contours.sort_contours(digitCnts,\n",
    "\t\tmethod=\"left-to-right\")[0]"
   ]
  },
  {
   "cell_type": "code",
   "execution_count": 29,
   "id": "344a80ec",
   "metadata": {},
   "outputs": [
    {
     "ename": "IndentationError",
     "evalue": "unexpected indent (<ipython-input-29-c01091123d46>, line 2)",
     "output_type": "error",
     "traceback": [
      "\u001b[1;36m  File \u001b[1;32m\"<ipython-input-29-c01091123d46>\"\u001b[1;36m, line \u001b[1;32m2\u001b[0m\n\u001b[1;33m    for c in digitCnts:\u001b[0m\n\u001b[1;37m    ^\u001b[0m\n\u001b[1;31mIndentationError\u001b[0m\u001b[1;31m:\u001b[0m unexpected indent\n"
     ]
    }
   ],
   "source": [
    "# loop over the digit contours\n",
    "\tfor c in digitCnts:\n",
    "\t\t# compute the bounding box of the individual digit, extract\n",
    "\t\t# the digit, and resize it to have the same fixed size as\n",
    "\t\t# the reference OCR-A images\n",
    "\t\t(x, y, w, h) = cv2.boundingRect(c)\n",
    "\t\troi = group[y:y + h, x:x + w]\n",
    "\t\troi = cv2.resize(roi, (57, 88))\n",
    "\t\t# initialize a list of template matching scores\t\n",
    "\t\tscores = []\n",
    "\t\t# loop over the reference digit name and digit ROI\n",
    "\t\tfor (digit, digitROI) in digits.items():\n",
    "\t\t\t# apply correlation-based template matching, take the\n",
    "\t\t\t# score, and update the scores list\n",
    "\t\t\tresult = cv2.matchTemplate(roi, digitROI,\n",
    "\t\t\t\tcv2.TM_CCOEFF)\n",
    "\t\t\t(_, score, _, _) = cv2.minMaxLoc(result)\n",
    "\t\t\tscores.append(score)\n",
    "\t\t# the classification for the digit ROI will be the reference\n",
    "\t\t# digit name with the *largest* template matching score\n",
    "\t\tgroupOutput.append(str(np.argmax(scores)))"
   ]
  },
  {
   "cell_type": "code",
   "execution_count": 30,
   "id": "072f7636",
   "metadata": {},
   "outputs": [],
   "source": [
    "# loop over the digit contours\n",
    "for c in digitCnts:\n",
    "\t\t# compute the bounding box of the individual digit, extract\n",
    "\t\t# the digit, and resize it to have the same fixed size as\n",
    "\t\t# the reference OCR-A images\n",
    "\t\t(x, y, w, h) = cv2.boundingRect(c)\n",
    "\t\troi = group[y:y + h, x:x + w]\n",
    "\t\troi = cv2.resize(roi, (57, 88))\n",
    "\t\t# initialize a list of template matching scores\t\n",
    "\t\tscores = []\n",
    "\t\t# loop over the reference digit name and digit ROI\n",
    "\t\tfor (digit, digitROI) in digits.items():\n",
    "\t\t\t# apply correlation-based template matching, take the\n",
    "\t\t\t# score, and update the scores list\n",
    "\t\t\tresult = cv2.matchTemplate(roi, digitROI,\n",
    "\t\t\t\tcv2.TM_CCOEFF)\n",
    "\t\t\t(_, score, _, _) = cv2.minMaxLoc(result)\n",
    "\t\t\tscores.append(score)\n",
    "\t\t# the classification for the digit ROI will be the reference\n",
    "\t\t# digit name with the *largest* template matching score\n",
    "\t\tgroupOutput.append(str(np.argmax(scores)))"
   ]
  },
  {
   "cell_type": "code",
   "execution_count": 31,
   "id": "260a817b",
   "metadata": {},
   "outputs": [
    {
     "ename": "IndentationError",
     "evalue": "unexpected indent (<ipython-input-31-08127075359c>, line 2)",
     "output_type": "error",
     "traceback": [
      "\u001b[1;36m  File \u001b[1;32m\"<ipython-input-31-08127075359c>\"\u001b[1;36m, line \u001b[1;32m2\u001b[0m\n\u001b[1;33m    cv2.rectangle(image, (gX - 5, gY - 5),\u001b[0m\n\u001b[1;37m    ^\u001b[0m\n\u001b[1;31mIndentationError\u001b[0m\u001b[1;31m:\u001b[0m unexpected indent\n"
     ]
    }
   ],
   "source": [
    "# draw the digit classifications around the group\n",
    "\tcv2.rectangle(image, (gX - 5, gY - 5),\n",
    "\t\t(gX + gW + 5, gY + gH + 5), (0, 0, 255), 2)\n",
    "\tcv2.putText(image, \"\".join(groupOutput), (gX, gY - 15),\n",
    "\t\tcv2.FONT_HERSHEY_SIMPLEX, 0.65, (0, 0, 255), 2)\n",
    "\t# update the output digits list\n",
    "\toutput.extend(groupOutput)"
   ]
  },
  {
   "cell_type": "code",
   "execution_count": 32,
   "id": "b466d7b5",
   "metadata": {},
   "outputs": [
    {
     "ename": "IndentationError",
     "evalue": "unexpected indent (<ipython-input-32-21ab9a97c4c6>, line 2)",
     "output_type": "error",
     "traceback": [
      "\u001b[1;36m  File \u001b[1;32m\"<ipython-input-32-21ab9a97c4c6>\"\u001b[1;36m, line \u001b[1;32m2\u001b[0m\n\u001b[1;33m    cv2.rectangle(image, (gX - 5, gY - 5),\u001b[0m\n\u001b[1;37m    ^\u001b[0m\n\u001b[1;31mIndentationError\u001b[0m\u001b[1;31m:\u001b[0m unexpected indent\n"
     ]
    }
   ],
   "source": [
    "# draw the digit classifications around the group\n",
    "        cv2.rectangle(image, (gX - 5, gY - 5),\n",
    "            (gX + gW + 5, gY + gH + 5), (0, 0, 255), 2)\n",
    "        cv2.putText(image, \"\".join(groupOutput), (gX, gY - 15),\n",
    "            cv2.FONT_HERSHEY_SIMPLEX, 0.65, (0, 0, 255), 2)\n",
    "        # update the output digits list\n",
    "        output.extend(groupOutput)"
   ]
  },
  {
   "cell_type": "code",
   "execution_count": 33,
   "id": "8aeaa8a6",
   "metadata": {},
   "outputs": [],
   "source": [
    "# draw the digit classifications around the group\n",
    "cv2.rectangle(image, (gX - 5, gY - 5),\n",
    "\t\t(gX + gW + 5, gY + gH + 5), (0, 0, 255), 2)\n",
    "cv2.putText(image, \"\".join(groupOutput), (gX, gY - 15),\n",
    "\t\tcv2.FONT_HERSHEY_SIMPLEX, 0.65, (0, 0, 255), 2)\n",
    "# update the output digits list\n",
    "output.extend(groupOutput)"
   ]
  },
  {
   "cell_type": "code",
   "execution_count": 34,
   "id": "61d9a7f3",
   "metadata": {},
   "outputs": [
    {
     "ename": "KeyError",
     "evalue": "'15'",
     "output_type": "error",
     "traceback": [
      "\u001b[1;31m---------------------------------------------------------------------------\u001b[0m",
      "\u001b[1;31mKeyError\u001b[0m                                  Traceback (most recent call last)",
      "\u001b[1;32m<ipython-input-34-188b1c3ca694>\u001b[0m in \u001b[0;36m<module>\u001b[1;34m\u001b[0m\n\u001b[0;32m      1\u001b[0m \u001b[1;31m# display the output credit card information to the screen\u001b[0m\u001b[1;33m\u001b[0m\u001b[1;33m\u001b[0m\u001b[1;33m\u001b[0m\u001b[0m\n\u001b[1;32m----> 2\u001b[1;33m \u001b[0mprint\u001b[0m\u001b[1;33m(\u001b[0m\u001b[1;34m\"Credit Card Type: {}\"\u001b[0m\u001b[1;33m.\u001b[0m\u001b[0mformat\u001b[0m\u001b[1;33m(\u001b[0m\u001b[0mFIRST_NUMBER\u001b[0m\u001b[1;33m[\u001b[0m\u001b[0moutput\u001b[0m\u001b[1;33m[\u001b[0m\u001b[1;36m0\u001b[0m\u001b[1;33m]\u001b[0m\u001b[1;33m]\u001b[0m\u001b[1;33m)\u001b[0m\u001b[1;33m)\u001b[0m\u001b[1;33m\u001b[0m\u001b[1;33m\u001b[0m\u001b[0m\n\u001b[0m\u001b[0;32m      3\u001b[0m \u001b[0mprint\u001b[0m\u001b[1;33m(\u001b[0m\u001b[1;34m\"Credit Card #: {}\"\u001b[0m\u001b[1;33m.\u001b[0m\u001b[0mformat\u001b[0m\u001b[1;33m(\u001b[0m\u001b[1;34m\"\"\u001b[0m\u001b[1;33m.\u001b[0m\u001b[0mjoin\u001b[0m\u001b[1;33m(\u001b[0m\u001b[0moutput\u001b[0m\u001b[1;33m)\u001b[0m\u001b[1;33m)\u001b[0m\u001b[1;33m)\u001b[0m\u001b[1;33m\u001b[0m\u001b[1;33m\u001b[0m\u001b[0m\n\u001b[0;32m      4\u001b[0m \u001b[0mcv2\u001b[0m\u001b[1;33m.\u001b[0m\u001b[0mimshow\u001b[0m\u001b[1;33m(\u001b[0m\u001b[1;34m\"Image\"\u001b[0m\u001b[1;33m,\u001b[0m \u001b[0mimage\u001b[0m\u001b[1;33m)\u001b[0m\u001b[1;33m\u001b[0m\u001b[1;33m\u001b[0m\u001b[0m\n\u001b[0;32m      5\u001b[0m \u001b[0mcv2\u001b[0m\u001b[1;33m.\u001b[0m\u001b[0mwaitKey\u001b[0m\u001b[1;33m(\u001b[0m\u001b[1;36m0\u001b[0m\u001b[1;33m)\u001b[0m\u001b[1;33m\u001b[0m\u001b[1;33m\u001b[0m\u001b[0m\n",
      "\u001b[1;31mKeyError\u001b[0m: '15'"
     ]
    }
   ],
   "source": [
    "# display the output credit card information to the screen\n",
    "print(\"Credit Card Type: {}\".format(FIRST_NUMBER[output[0]]))\n",
    "print(\"Credit Card #: {}\".format(\"\".join(output)))\n",
    "cv2.imshow(\"Image\", image)\n",
    "cv2.waitKey(0)"
   ]
  },
  {
   "cell_type": "code",
   "execution_count": 35,
   "id": "1f8e2dc7",
   "metadata": {},
   "outputs": [
    {
     "ename": "TypeError",
     "evalue": "unhashable type: 'list'",
     "output_type": "error",
     "traceback": [
      "\u001b[1;31m---------------------------------------------------------------------------\u001b[0m",
      "\u001b[1;31mTypeError\u001b[0m                                 Traceback (most recent call last)",
      "\u001b[1;32m<ipython-input-35-4de3c033d41d>\u001b[0m in \u001b[0;36m<module>\u001b[1;34m\u001b[0m\n\u001b[0;32m      1\u001b[0m \u001b[1;31m# display the output credit card information to the screen\u001b[0m\u001b[1;33m\u001b[0m\u001b[1;33m\u001b[0m\u001b[1;33m\u001b[0m\u001b[0m\n\u001b[1;32m----> 2\u001b[1;33m \u001b[0mprint\u001b[0m\u001b[1;33m(\u001b[0m\u001b[1;34m\"Credit Card Type: {}\"\u001b[0m\u001b[1;33m.\u001b[0m\u001b[0mformat\u001b[0m\u001b[1;33m(\u001b[0m\u001b[0mFIRST_NUMBER\u001b[0m\u001b[1;33m[\u001b[0m\u001b[0moutput\u001b[0m\u001b[1;33m]\u001b[0m\u001b[1;33m)\u001b[0m\u001b[1;33m)\u001b[0m\u001b[1;33m\u001b[0m\u001b[1;33m\u001b[0m\u001b[0m\n\u001b[0m\u001b[0;32m      3\u001b[0m \u001b[0mprint\u001b[0m\u001b[1;33m(\u001b[0m\u001b[1;34m\"Credit Card #: {}\"\u001b[0m\u001b[1;33m.\u001b[0m\u001b[0mformat\u001b[0m\u001b[1;33m(\u001b[0m\u001b[1;34m\"\"\u001b[0m\u001b[1;33m.\u001b[0m\u001b[0mjoin\u001b[0m\u001b[1;33m(\u001b[0m\u001b[0moutput\u001b[0m\u001b[1;33m)\u001b[0m\u001b[1;33m)\u001b[0m\u001b[1;33m)\u001b[0m\u001b[1;33m\u001b[0m\u001b[1;33m\u001b[0m\u001b[0m\n\u001b[0;32m      4\u001b[0m \u001b[0mcv2\u001b[0m\u001b[1;33m.\u001b[0m\u001b[0mimshow\u001b[0m\u001b[1;33m(\u001b[0m\u001b[1;34m\"Image\"\u001b[0m\u001b[1;33m,\u001b[0m \u001b[0mimage\u001b[0m\u001b[1;33m)\u001b[0m\u001b[1;33m\u001b[0m\u001b[1;33m\u001b[0m\u001b[0m\n\u001b[0;32m      5\u001b[0m \u001b[0mcv2\u001b[0m\u001b[1;33m.\u001b[0m\u001b[0mwaitKey\u001b[0m\u001b[1;33m(\u001b[0m\u001b[1;36m0\u001b[0m\u001b[1;33m)\u001b[0m\u001b[1;33m\u001b[0m\u001b[1;33m\u001b[0m\u001b[0m\n",
      "\u001b[1;31mTypeError\u001b[0m: unhashable type: 'list'"
     ]
    }
   ],
   "source": [
    "# display the output credit card information to the screen\n",
    "print(\"Credit Card Type: {}\".format(FIRST_NUMBER[output]))\n",
    "print(\"Credit Card #: {}\".format(\"\".join(output)))\n",
    "cv2.imshow(\"Image\", image)\n",
    "cv2.waitKey(0)"
   ]
  },
  {
   "cell_type": "code",
   "execution_count": null,
   "id": "1dd7da4d",
   "metadata": {},
   "outputs": [],
   "source": [
    "# display the output credit card information to the screen\n",
    "\n",
    "cv2.imshow(\"Image\", image)\n",
    "cv2.waitKey(0)"
   ]
  },
  {
   "cell_type": "code",
   "execution_count": null,
   "id": "e06fcd3c",
   "metadata": {},
   "outputs": [],
   "source": [
    "# display the output credit card information to the screen\n",
    "print(\"Credit Card Type: {}\".format(FIRST_NUMBER[output]))\n",
    "print(\"Credit Card #: {}\".format(\"\".join(output)))\n",
    "cv2.imshow(\"Image\", image)\n",
    "cv2.waitKey(0)"
   ]
  }
 ],
 "metadata": {
  "kernelspec": {
   "display_name": "Python 3",
   "language": "python",
   "name": "python3"
  },
  "language_info": {
   "codemirror_mode": {
    "name": "ipython",
    "version": 3
   },
   "file_extension": ".py",
   "mimetype": "text/x-python",
   "name": "python",
   "nbconvert_exporter": "python",
   "pygments_lexer": "ipython3",
   "version": "3.8.8"
  }
 },
 "nbformat": 4,
 "nbformat_minor": 5
}
